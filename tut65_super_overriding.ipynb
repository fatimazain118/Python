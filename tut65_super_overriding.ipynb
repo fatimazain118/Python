{
  "nbformat": 4,
  "nbformat_minor": 0,
  "metadata": {
    "colab": {
      "name": "tut65_super_overriding.ipynb",
      "provenance": [],
      "authorship_tag": "ABX9TyOCVLwAxE3j2UpRjnbLVj49",
      "include_colab_link": true
    },
    "kernelspec": {
      "name": "python3",
      "display_name": "Python 3"
    },
    "language_info": {
      "name": "python"
    }
  },
  "cells": [
    {
      "cell_type": "markdown",
      "metadata": {
        "id": "view-in-github",
        "colab_type": "text"
      },
      "source": [
        "<a href=\"https://colab.research.google.com/github/fatimazain118/Python/blob/main/tut65_super_overriding.ipynb\" target=\"_parent\"><img src=\"https://colab.research.google.com/assets/colab-badge.svg\" alt=\"Open In Colab\"/></a>"
      ]
    },
    {
      "cell_type": "code",
      "metadata": {
        "id": "3VwqmXAGMFQN"
      },
      "source": [
        "class A:\n",
        "  classvar1 = \"I am a class variable in class A\"\n",
        "  def __init__(self):\n",
        "    self.var1 = \"I am inside class A's constructor\"\n",
        "    # self.classvar1 = \"Instance var in class A\"\n",
        "\n",
        "class B(A):\n",
        "  classvar1 = \"I am in class B\"\n",
        "\n",
        "a = A()\n",
        "b = B()      "
      ],
      "execution_count": 3,
      "outputs": []
    },
    {
      "cell_type": "code",
      "metadata": {
        "colab": {
          "base_uri": "https://localhost:8080/",
          "height": 35
        },
        "id": "dcMETvGRihb4",
        "outputId": "c49acb8d-a070-4742-a1bb-cb74f12b2641"
      },
      "source": [
        "b.classvar1          #qki sbse pehle instance variable to dhundega"
      ],
      "execution_count": 2,
      "outputs": [
        {
          "output_type": "execute_result",
          "data": {
            "application/vnd.google.colaboratory.intrinsic+json": {
              "type": "string"
            },
            "text/plain": [
              "'Instance var in class A'"
            ]
          },
          "metadata": {},
          "execution_count": 2
        }
      ]
    },
    {
      "cell_type": "code",
      "metadata": {
        "colab": {
          "base_uri": "https://localhost:8080/",
          "height": 35
        },
        "id": "sQSUH4zHi9bi",
        "outputId": "7ffb6728-3a0f-4bc9-a632-bdb06ff60332"
      },
      "source": [
        "b.classvar1        # after commenting from class A"
      ],
      "execution_count": 4,
      "outputs": [
        {
          "output_type": "execute_result",
          "data": {
            "application/vnd.google.colaboratory.intrinsic+json": {
              "type": "string"
            },
            "text/plain": [
              "'I am in class B'"
            ]
          },
          "metadata": {},
          "execution_count": 4
        }
      ]
    },
    {
      "cell_type": "code",
      "metadata": {
        "id": "o9PLnyyfkL_P"
      },
      "source": [
        "class A:\n",
        "  classvar1 = \"I am a class variable in class A\"\n",
        "  def __init__(self):\n",
        "    self.var1 = \"I am inside class A's constructor\"\n",
        "    self.classvar1 = \"Instance var in class A\"\n",
        "    self.special =\"special\"\n",
        "\n",
        "class B(A):\n",
        "   classvar1 = \"I am in class B\"\n",
        "   def __init__(self):\n",
        "    self.var1 = \"I am inside class B's constructor\"\n",
        "    # self.classvar1 = \"Instance var in class B\"\n",
        "\n",
        "a = A()\n",
        "b = B() "
      ],
      "execution_count": 11,
      "outputs": []
    },
    {
      "cell_type": "code",
      "metadata": {
        "colab": {
          "base_uri": "https://localhost:8080/",
          "height": 35
        },
        "id": "EDvVzd4rkVtw",
        "outputId": "fad6eaf3-0d90-4948-d04c-3262912b6b0e"
      },
      "source": [
        "b.classvar1         "
      ],
      "execution_count": 7,
      "outputs": [
        {
          "output_type": "execute_result",
          "data": {
            "application/vnd.google.colaboratory.intrinsic+json": {
              "type": "string"
            },
            "text/plain": [
              "'Instance var in class B'"
            ]
          },
          "metadata": {},
          "execution_count": 7
        }
      ]
    },
    {
      "cell_type": "code",
      "metadata": {
        "colab": {
          "base_uri": "https://localhost:8080/",
          "height": 35
        },
        "id": "4f8wf0tiku34",
        "outputId": "1e0aad47-3eda-45a4-b7ba-92e6a8accde9"
      },
      "source": [
        "b.classvar1            #coz class A ke constructor ko overwrite kr dia hai"
      ],
      "execution_count": 10,
      "outputs": [
        {
          "output_type": "execute_result",
          "data": {
            "application/vnd.google.colaboratory.intrinsic+json": {
              "type": "string"
            },
            "text/plain": [
              "'I am in class B'"
            ]
          },
          "metadata": {},
          "execution_count": 10
        }
      ]
    },
    {
      "cell_type": "code",
      "metadata": {
        "colab": {
          "base_uri": "https://localhost:8080/",
          "height": 195
        },
        "id": "5s3e8SsLlC8J",
        "outputId": "b34cdc37-af03-4eed-ae1c-d2a47339c55a"
      },
      "source": [
        "#after writing special\n",
        "\n",
        "b.special   #gives error as class B ke constructor ne usse overwrite kr dia hai"
      ],
      "execution_count": 12,
      "outputs": [
        {
          "output_type": "error",
          "ename": "AttributeError",
          "evalue": "ignored",
          "traceback": [
            "\u001b[0;31m---------------------------------------------------------------------------\u001b[0m",
            "\u001b[0;31mAttributeError\u001b[0m                            Traceback (most recent call last)",
            "\u001b[0;32m<ipython-input-12-b8d798d6d3ff>\u001b[0m in \u001b[0;36m<module>\u001b[0;34m()\u001b[0m\n\u001b[1;32m      1\u001b[0m \u001b[0;31m#after writing special\u001b[0m\u001b[0;34m\u001b[0m\u001b[0;34m\u001b[0m\u001b[0;34m\u001b[0m\u001b[0m\n\u001b[1;32m      2\u001b[0m \u001b[0;34m\u001b[0m\u001b[0m\n\u001b[0;32m----> 3\u001b[0;31m \u001b[0mb\u001b[0m\u001b[0;34m.\u001b[0m\u001b[0mspecial\u001b[0m\u001b[0;34m\u001b[0m\u001b[0;34m\u001b[0m\u001b[0m\n\u001b[0m",
            "\u001b[0;31mAttributeError\u001b[0m: 'B' object has no attribute 'special'"
          ]
        }
      ]
    },
    {
      "cell_type": "markdown",
      "metadata": {
        "id": "ah3oAnuuqhFo"
      },
      "source": [
        "When we want to call an already overridden method, then the use of the super function comes in. It is a built-in function, so no requirement of any module import statement. What super does is it allows us to use the method of our superclass, which in the case of inheritance is the parent class.\n",
        "\n",
        "We have discussed earlier that in the case of method overriding, the previous method could not be called, but super makes an exception, and thus we can partially or completely use the method of the parent class too."
      ]
    },
    {
      "cell_type": "code",
      "metadata": {
        "id": "2WL1vBsylv24"
      },
      "source": [
        "class A:\n",
        "  classvar1 = \"I am a class variable in class A\"\n",
        "  def __init__(self):\n",
        "    self.var1 = \"I am inside class A's constructor\"\n",
        "    self.classvar1 = \"Instance var in class A\"\n",
        "    self.special =\"special\"\n",
        "\n",
        "class B(A):\n",
        "   classvar1 = \"I am in class B\"\n",
        "   def __init__(self):\n",
        "     super().__init__()\n",
        "     self.var1 = \"I am inside class B's constructor\"\n",
        "    # self.classvar1 = \"Instance var in class B\"\n",
        "\n",
        "a = A()\n",
        "b = B()"
      ],
      "execution_count": 27,
      "outputs": []
    },
    {
      "cell_type": "code",
      "metadata": {
        "colab": {
          "base_uri": "https://localhost:8080/",
          "height": 35
        },
        "id": "OxWuZcLDlxMO",
        "outputId": "ba389911-2880-41a3-9daf-0872634a63e9"
      },
      "source": [
        "b.special"
      ],
      "execution_count": 16,
      "outputs": [
        {
          "output_type": "execute_result",
          "data": {
            "application/vnd.google.colaboratory.intrinsic+json": {
              "type": "string"
            },
            "text/plain": [
              "'special'"
            ]
          },
          "metadata": {},
          "execution_count": 16
        }
      ]
    },
    {
      "cell_type": "code",
      "metadata": {
        "colab": {
          "base_uri": "https://localhost:8080/",
          "height": 35
        },
        "id": "CVjPEAM8mOAO",
        "outputId": "5b529422-490d-46a3-c34a-ab928ef32127"
      },
      "source": [
        "b.var1         #super init se pehle class A me jaiga but bdme jab class B me return hoga to values over write hojaiga"
      ],
      "execution_count": 17,
      "outputs": [
        {
          "output_type": "execute_result",
          "data": {
            "application/vnd.google.colaboratory.intrinsic+json": {
              "type": "string"
            },
            "text/plain": [
              "\"I am inside class B's constructor\""
            ]
          },
          "metadata": {},
          "execution_count": 17
        }
      ]
    },
    {
      "cell_type": "code",
      "metadata": {
        "colab": {
          "base_uri": "https://localhost:8080/",
          "height": 35
        },
        "id": "_Fl0AlwNmOb9",
        "outputId": "e527eb00-e694-4463-b74d-044b9404f1a4"
      },
      "source": [
        "b.classvar1"
      ],
      "execution_count": 18,
      "outputs": [
        {
          "output_type": "execute_result",
          "data": {
            "application/vnd.google.colaboratory.intrinsic+json": {
              "type": "string"
            },
            "text/plain": [
              "'Instance var in class A'"
            ]
          },
          "metadata": {},
          "execution_count": 18
        }
      ]
    }
  ]
}