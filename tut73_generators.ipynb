{
  "nbformat": 4,
  "nbformat_minor": 0,
  "metadata": {
    "colab": {
      "name": "tut73_generators.ipynb",
      "provenance": [],
      "authorship_tag": "ABX9TyM/hePd0NL6/r02Kb0bxJRM",
      "include_colab_link": true
    },
    "kernelspec": {
      "name": "python3",
      "display_name": "Python 3"
    },
    "language_info": {
      "name": "python"
    }
  },
  "cells": [
    {
      "cell_type": "markdown",
      "metadata": {
        "id": "view-in-github",
        "colab_type": "text"
      },
      "source": [
        "<a href=\"https://colab.research.google.com/github/fatimazain118/Python/blob/main/tut73_generators.ipynb\" target=\"_parent\"><img src=\"https://colab.research.google.com/assets/colab-badge.svg\" alt=\"Open In Colab\"/></a>"
      ]
    },
    {
      "cell_type": "markdown",
      "metadata": {
        "id": "Tkpsk0lwKxbZ"
      },
      "source": [
        "What are the Generators in Python?\n",
        "Generators concept is also very similar as it is used to make an iterator. The only difference comes in the return statement. The generator does not use a return statement. Instead, it uses a yield keyword. Yield functionality is very similar to return as it returns a value to the caller, but the difference is that it also saves the state of the iterator. Meaning that when we use the function again, the yield will resume the value from the place it left off. \n",
        "\n",
        "Generators in Python are created just like the normal functions using the ‘def’ keyword. Generator functions do not run by their name, and they are run when the __next__() function is called. A generator is very helpful in projects relating to memory issues because, like a simple iterator, it does not return all the values at a time; instead, it produces, series of values over time. So a generator is generally used when we want to iterate over a series of values but do not want to store them completely in memory. \n",
        "\n",
        "\"\"\"\n",
        "Iterable - __iter__() or __getitem__()\n",
        "Iterator - __next__()\n",
        "Iteration -\n",
        "\n",
        "\"\"\"\n"
      ]
    },
    {
      "cell_type": "markdown",
      "metadata": {
        "id": "eK9JOWnqJeoy"
      },
      "source": [
        "Iterables are objects that can be placed inside a loop and can return one variable at a time. In simple terms, we can say that iterables are objects capable of iteration. Examples of iterable include list, string, tuple, etc. \n",
        "\n",
        "for c in a:\n",
        "      print (a)\n",
        "  \n",
        "  Here a is an iterable."
      ]
    },
    {
      "cell_type": "code",
      "metadata": {
        "id": "2tMiWz9jREe4",
        "colab": {
          "base_uri": "https://localhost:8080/"
        },
        "outputId": "fe5d5fa0-5d6a-4b12-b67c-253734c71a52"
      },
      "source": [
        "def gen(n):\n",
        "    for i in range(n):\n",
        "        yield i\n",
        "\n",
        "g = gen(3)\n",
        "print(g.__next__())\n",
        "print(g.__next__())\n",
        "print(g.__next__())\n",
        "#print(g.__next__())   #this gives an error n=3 tha"
      ],
      "execution_count": 1,
      "outputs": [
        {
          "output_type": "stream",
          "name": "stdout",
          "text": [
            "0\n",
            "1\n",
            "2\n"
          ]
        }
      ]
    },
    {
      "cell_type": "code",
      "metadata": {
        "colab": {
          "base_uri": "https://localhost:8080/"
        },
        "id": "3i_QfHJ9INdK",
        "outputId": "2e06e5a8-a193-4f55-f8c4-5b053b126dbd"
      },
      "source": [
        "def gen(n):\n",
        "    for i in range(n):\n",
        "        yield i\n",
        "\n",
        "g = gen(3)\n",
        "\n",
        "for i in g:\n",
        "    print(i)     #for loop automaticaly return when contition become false"
      ],
      "execution_count": 6,
      "outputs": [
        {
          "output_type": "stream",
          "name": "stdout",
          "text": [
            "0\n",
            "1\n",
            "2\n"
          ]
        }
      ]
    },
    {
      "cell_type": "code",
      "metadata": {
        "colab": {
          "base_uri": "https://localhost:8080/"
        },
        "id": "9panx32UISdX",
        "outputId": "2ad2f3d0-09ea-49b1-ccea-a1f096168e7f"
      },
      "source": [
        "h= \"harry\"\n",
        "ier = iter(h)\n",
        "print(ier.__next__())\n",
        "print(ier.__next__())"
      ],
      "execution_count": 4,
      "outputs": [
        {
          "output_type": "stream",
          "name": "stdout",
          "text": [
            "h\n",
            "a\n"
          ]
        }
      ]
    },
    {
      "cell_type": "code",
      "metadata": {
        "colab": {
          "base_uri": "https://localhost:8080/"
        },
        "id": "68B_-Y_rIVsR",
        "outputId": "75ebe458-19ed-4c6e-e910-557f3b6b8b0f"
      },
      "source": [
        "def gen(n):\n",
        "    for i in range(n):\n",
        "        yield i\n",
        "\n",
        "g = gen(3)\n",
        "\n",
        "for c in h:   #as string is iterable\n",
        "    print(c)"
      ],
      "execution_count": 7,
      "outputs": [
        {
          "output_type": "stream",
          "name": "stdout",
          "text": [
            "h\n",
            "a\n",
            "r\n",
            "r\n",
            "y\n"
          ]
        }
      ]
    },
    {
      "cell_type": "code",
      "metadata": {
        "id": "p6HvkHDII2vk"
      },
      "source": [
        ""
      ],
      "execution_count": null,
      "outputs": []
    }
  ]
}