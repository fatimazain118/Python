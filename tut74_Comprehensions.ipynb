{
  "nbformat": 4,
  "nbformat_minor": 0,
  "metadata": {
    "colab": {
      "name": "tut74_Comprehensions.ipynb",
      "provenance": [],
      "authorship_tag": "ABX9TyMpWTR4/hBOuXfuMxLShD4S",
      "include_colab_link": true
    },
    "kernelspec": {
      "name": "python3",
      "display_name": "Python 3"
    },
    "language_info": {
      "name": "python"
    }
  },
  "cells": [
    {
      "cell_type": "markdown",
      "metadata": {
        "id": "view-in-github",
        "colab_type": "text"
      },
      "source": [
        "<a href=\"https://colab.research.google.com/github/fatimazain118/Python/blob/main/tut74_Comprehensions.ipynb\" target=\"_parent\"><img src=\"https://colab.research.google.com/assets/colab-badge.svg\" alt=\"Open In Colab\"/></a>"
      ]
    },
    {
      "cell_type": "markdown",
      "metadata": {
        "id": "rtgimidzUQ_J"
      },
      "source": [
        "list comprehensions"
      ]
    },
    {
      "cell_type": "code",
      "metadata": {
        "colab": {
          "base_uri": "https://localhost:8080/"
        },
        "id": "6KAhakUwToxm",
        "outputId": "85875451-13ed-4eca-cc21-9cadf336f989"
      },
      "source": [
        "ls =[]\n",
        "\n",
        "for i in range(31):\n",
        "  if i%3 ==0:\n",
        "    ls.append(i)\n",
        "\n",
        "print(ls)    "
      ],
      "execution_count": 3,
      "outputs": [
        {
          "output_type": "stream",
          "name": "stdout",
          "text": [
            "[0, 3, 6, 9, 12, 15, 18, 21, 24, 27, 30]\n"
          ]
        }
      ]
    },
    {
      "cell_type": "code",
      "metadata": {
        "colab": {
          "base_uri": "https://localhost:8080/"
        },
        "id": "UpzJgql9UCRt",
        "outputId": "1d77f268-c98e-4e54-f2e1-01526f8025ad"
      },
      "source": [
        "ls = [i for i in range(31) if i%3 == 0 ]\n",
        "print(ls)"
      ],
      "execution_count": 4,
      "outputs": [
        {
          "output_type": "stream",
          "name": "stdout",
          "text": [
            "[0, 3, 6, 9, 12, 15, 18, 21, 24, 27, 30]\n"
          ]
        }
      ]
    },
    {
      "cell_type": "markdown",
      "metadata": {
        "id": "Mkxl8n_0VG3M"
      },
      "source": [
        "Dictionary Comprehension"
      ]
    },
    {
      "cell_type": "code",
      "metadata": {
        "colab": {
          "base_uri": "https://localhost:8080/"
        },
        "id": "MTJilIOEU1FE",
        "outputId": "a9270eb1-c57e-4405-a1a4-a1bbe7a4274c"
      },
      "source": [
        "dict1 = {i:f\"item{i}\" for i in range(31) if i%10 ==0}\n",
        "print(dict1)"
      ],
      "execution_count": 8,
      "outputs": [
        {
          "output_type": "stream",
          "name": "stdout",
          "text": [
            "{0: 'item0', 10: 'item10', 20: 'item20', 30: 'item30'}\n"
          ]
        }
      ]
    },
    {
      "cell_type": "code",
      "metadata": {
        "colab": {
          "base_uri": "https://localhost:8080/"
        },
        "id": "KmHvvOqwVdFs",
        "outputId": "a0390278-fc5e-4149-cc3d-baae7f418bd4"
      },
      "source": [
        "dict = {i: f\"Item{i}\" for i in range(5)}\n",
        "dict = {value:key for key,value in dict.items()}    #reverse the pair\n",
        "print(dict)"
      ],
      "execution_count": 10,
      "outputs": [
        {
          "output_type": "stream",
          "name": "stdout",
          "text": [
            "{'Item0': 0, 'Item1': 1, 'Item2': 2, 'Item3': 3, 'Item4': 4}\n"
          ]
        }
      ]
    },
    {
      "cell_type": "markdown",
      "metadata": {
        "id": "qwZ1zyc7XLir"
      },
      "source": [
        "Set Comprehension"
      ]
    },
    {
      "cell_type": "code",
      "metadata": {
        "colab": {
          "base_uri": "https://localhost:8080/"
        },
        "id": "1N_SyapYWkJq",
        "outputId": "36d5c30a-7daa-477e-ade5-91ace047e636"
      },
      "source": [
        "dresses = {dress for dress in [\"dress1\", \"dress2\", \"dress1\", \"dress2\"]}  #in set obj dont repeat\n",
        "print(dresses)"
      ],
      "execution_count": 11,
      "outputs": [
        {
          "output_type": "stream",
          "name": "stdout",
          "text": [
            "{'dress1', 'dress2'}\n"
          ]
        }
      ]
    },
    {
      "cell_type": "code",
      "metadata": {
        "colab": {
          "base_uri": "https://localhost:8080/"
        },
        "id": "Y3y2qsZkXnz8",
        "outputId": "1cc6de75-0ade-48c0-ecd2-2a41a445a396"
      },
      "source": [
        "print(type(dresses))"
      ],
      "execution_count": 12,
      "outputs": [
        {
          "output_type": "stream",
          "name": "stdout",
          "text": [
            "<class 'set'>\n"
          ]
        }
      ]
    },
    {
      "cell_type": "code",
      "metadata": {
        "colab": {
          "base_uri": "https://localhost:8080/"
        },
        "id": "-qIjNoAOXtQG",
        "outputId": "4049c49f-128b-4f96-ca7b-132772ac67fd"
      },
      "source": [
        "dresses = [dress for dress in [\"dress1\", \"dress2\", \"dress1\", \"dress2\"]]  #in square bracket as a list pass kia hai\n",
        "print(dresses)"
      ],
      "execution_count": 13,
      "outputs": [
        {
          "output_type": "stream",
          "name": "stdout",
          "text": [
            "['dress1', 'dress2', 'dress1', 'dress2']\n"
          ]
        }
      ]
    },
    {
      "cell_type": "code",
      "metadata": {
        "colab": {
          "base_uri": "https://localhost:8080/"
        },
        "id": "ZLIlikK0XzZE",
        "outputId": "e651cf9f-def2-46d3-da8f-3dbbd30c5145"
      },
      "source": [
        "print(type(dresses))       #object introspection"
      ],
      "execution_count": 14,
      "outputs": [
        {
          "output_type": "stream",
          "name": "stdout",
          "text": [
            "<class 'list'>\n"
          ]
        }
      ]
    },
    {
      "cell_type": "markdown",
      "metadata": {
        "id": "VkXjoQPFYJXm"
      },
      "source": [
        "Generator Comprehension"
      ]
    },
    {
      "cell_type": "code",
      "metadata": {
        "colab": {
          "base_uri": "https://localhost:8080/"
        },
        "id": "mvRwH6rpX-AV",
        "outputId": "225ae284-da3e-4f1e-fa63-64a230480bcf"
      },
      "source": [
        "evens = (i for i in range(11) if i%2 ==0)\n",
        "print(evens) #generators are special iterators which can be access once to get no. use next method"
      ],
      "execution_count": 17,
      "outputs": [
        {
          "output_type": "stream",
          "name": "stdout",
          "text": [
            "<generator object <genexpr> at 0x7fafd0c6cc50>\n"
          ]
        }
      ]
    },
    {
      "cell_type": "code",
      "metadata": {
        "colab": {
          "base_uri": "https://localhost:8080/"
        },
        "id": "4STaD_-6adE0",
        "outputId": "d58d0c6f-8cf0-4140-cc8c-77af3d43ffbc"
      },
      "source": [
        "print(evens.__next__())   #to access all element we can use for loop\n",
        "print(evens.__next__())"
      ],
      "execution_count": 20,
      "outputs": [
        {
          "output_type": "stream",
          "name": "stdout",
          "text": [
            "2\n",
            "4\n"
          ]
        }
      ]
    },
    {
      "cell_type": "code",
      "metadata": {
        "colab": {
          "base_uri": "https://localhost:8080/"
        },
        "id": "_-c--Y_AbEds",
        "outputId": "62fdfbb6-96a2-4e82-e59f-22c34dece085"
      },
      "source": [
        "for item in evens:\n",
        "  print(item)"
      ],
      "execution_count": 21,
      "outputs": [
        {
          "output_type": "stream",
          "name": "stdout",
          "text": [
            "6\n",
            "8\n",
            "10\n"
          ]
        }
      ]
    },
    {
      "cell_type": "code",
      "metadata": {
        "id": "h68H3ltMbQFs"
      },
      "source": [
        ""
      ],
      "execution_count": null,
      "outputs": []
    }
  ]
}